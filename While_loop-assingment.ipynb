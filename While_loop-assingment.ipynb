{
 "cells": [
  {
   "cell_type": "markdown",
   "id": "12a21a25",
   "metadata": {
    "id": "12a21a25"
   },
   "source": [
    "# 1. Print multiplication table of 24 and 50 upto 10"
   ]
  },
  {
   "cell_type": "code",
   "execution_count": 9,
   "id": "0bf5e71c",
   "metadata": {
    "colab": {
     "base_uri": "https://localhost:8080/",
     "height": 235
    },
    "executionInfo": {
     "elapsed": 364,
     "status": "error",
     "timestamp": 1625404744968,
     "user": {
      "displayName": "sai darshini",
      "photoUrl": "",
      "userId": "15530230778984429889"
     },
     "user_tz": -330
    },
    "id": "0bf5e71c",
    "outputId": "b9775031-8cc7-4aa1-c5b0-6af142d144c9"
   },
   "outputs": [
    {
     "name": "stdout",
     "output_type": "stream",
     "text": [
      "24 x 1 = 24\n",
      "24 x 2 = 48\n",
      "24 x 3 = 72\n",
      "24 x 4 = 96\n",
      "24 x 5 = 120\n",
      "24 x 6 = 144\n",
      "24 x 7 = 168\n",
      "24 x 8 = 192\n",
      "24 x 9 = 216\n",
      "24 x 10 = 240\n",
      "     \n",
      "50 x 1 = 50\n",
      "50 x 2 = 100\n",
      "50 x 3 = 150\n",
      "50 x 4 = 200\n",
      "50 x 5 = 250\n",
      "50 x 6 = 300\n",
      "50 x 7 = 350\n",
      "50 x 8 = 400\n",
      "50 x 9 = 450\n",
      "50 x 10 = 500\n"
     ]
    }
   ],
   "source": [
    "n=24\n",
    "i=1\n",
    "while i<11:\n",
    "    print(n,'x',i,'=',n*i)\n",
    "    i=i+1\n",
    "print('     ')    \n",
    "m=50\n",
    "i=1\n",
    "while i<11:\n",
    "    print(m,'x',i,'=',m*i)\n",
    "    i=i+1"
   ]
  },
  {
   "cell_type": "markdown",
   "id": "7f08437c",
   "metadata": {
    "id": "7f08437c"
   },
   "source": [
    "# 2.Write a while loop statement to print the following series 107,100,93,86....9"
   ]
  },
  {
   "cell_type": "code",
   "execution_count": 6,
   "id": "7bc3f5f6",
   "metadata": {
    "id": "7bc3f5f6"
   },
   "outputs": [
    {
     "name": "stdout",
     "output_type": "stream",
     "text": [
      "107\n",
      "100\n",
      "93\n",
      "86\n",
      "79\n",
      "72\n",
      "65\n",
      "58\n",
      "51\n",
      "44\n",
      "37\n",
      "30\n",
      "23\n",
      "16\n",
      "9\n"
     ]
    }
   ],
   "source": [
    "i=107\n",
    "while(i>8):\n",
    "  print(i)\n",
    "  i=i-7"
   ]
  },
  {
   "cell_type": "markdown",
   "id": "2b08396b",
   "metadata": {
    "id": "2b08396b"
   },
   "source": [
    "# 3. Write a program to print the factorial of a number accepted from user."
   ]
  },
  {
   "cell_type": "code",
   "execution_count": 12,
   "id": "9a683d50",
   "metadata": {
    "id": "9a683d50"
   },
   "outputs": [
    {
     "name": "stdout",
     "output_type": "stream",
     "text": [
      "number:6\n",
      "factorial= 720\n"
     ]
    }
   ],
   "source": [
    "n=int(input('number:'))\n",
    "i = 1\n",
    "factorial = 1\n",
    "while i<=n:\n",
    "    factorial=factorial*i\n",
    "    i=i+1\n",
    "print('factorial=',factorial)"
   ]
  },
  {
   "cell_type": "markdown",
   "id": "e89a712d",
   "metadata": {
    "id": "e89a712d"
   },
   "source": [
    "# 4.Write a program to accept 10 numbers from the user and display it’s average"
   ]
  },
  {
   "cell_type": "code",
   "execution_count": 4,
   "id": "239568a8",
   "metadata": {
    "id": "239568a8"
   },
   "outputs": [
    {
     "name": "stdout",
     "output_type": "stream",
     "text": [
      "enter 10 numbers:\n",
      "5\n",
      "2\n",
      "4\n",
      "1\n",
      "66\n",
      "8\n",
      "9\n",
      "2\n",
      "5\n",
      "10\n",
      "average of 10 numbers: 11.2\n"
     ]
    }
   ],
   "source": [
    "i=1\n",
    "sum=0\n",
    "print('enter 10 numbers:')\n",
    "while i<=10:\n",
    "    n=int(input())\n",
    "    sum=sum+n\n",
    "    i=i+1\n",
    "print('average of 10 numbers:',sum/10)    "
   ]
  },
  {
   "cell_type": "markdown",
   "id": "c06789e5",
   "metadata": {
    "id": "c06789e5"
   },
   "source": [
    "# 5. Write a program to print the following series till n terms. 2 , 22 , 222 , 2222 _ _ _ _ _ n terms"
   ]
  },
  {
   "cell_type": "code",
   "execution_count": 15,
   "id": "4254784c",
   "metadata": {
    "id": "4254784c"
   },
   "outputs": [
    {
     "name": "stdout",
     "output_type": "stream",
     "text": [
      "enter number:5\n",
      "2,22,222,2222,22222,"
     ]
    }
   ],
   "source": [
    "i=0\n",
    "string='2'\n",
    "num=int(input(\"enter number:\"))\n",
    "while(i<num):\n",
    "    print(string,end=\",\")\n",
    "    string=string+'2'\n",
    "    i=i+1\n",
    "    "
   ]
  },
  {
   "cell_type": "markdown",
   "id": "e112e4f2",
   "metadata": {
    "id": "e112e4f2"
   },
   "source": [
    "# 6.Write a Program to print all the characters in the string ‘PYTHON’ using while loop."
   ]
  },
  {
   "cell_type": "code",
   "execution_count": 14,
   "id": "94c69f7c",
   "metadata": {
    "id": "94c69f7c"
   },
   "outputs": [
    {
     "name": "stdout",
     "output_type": "stream",
     "text": [
      "P\n",
      "Y\n",
      "T\n",
      "H\n",
      "O\n",
      "N\n"
     ]
    }
   ],
   "source": [
    "s='PYTHON'\n",
    "i=0\n",
    "while(i<len(s)):\n",
    "    print(s[i])\n",
    "    i=i+1"
   ]
  },
  {
   "cell_type": "code",
   "execution_count": null,
   "id": "35dfc72e",
   "metadata": {},
   "outputs": [],
   "source": []
  }
 ],
 "metadata": {
  "colab": {
   "name": "While_loop.ipynb",
   "provenance": []
  },
  "kernelspec": {
   "display_name": "Python 3",
   "language": "python",
   "name": "python3"
  },
  "language_info": {
   "codemirror_mode": {
    "name": "ipython",
    "version": 3
   },
   "file_extension": ".py",
   "mimetype": "text/x-python",
   "name": "python",
   "nbconvert_exporter": "python",
   "pygments_lexer": "ipython3",
   "version": "3.8.8"
  }
 },
 "nbformat": 4,
 "nbformat_minor": 5
}
