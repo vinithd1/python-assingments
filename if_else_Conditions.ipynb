{
  "nbformat": 4,
  "nbformat_minor": 0,
  "metadata": {
    "colab": {
      "name": "if_else Conditions.ipynb",
      "provenance": [],
      "collapsed_sections": []
    },
    "kernelspec": {
      "display_name": "Python 3",
      "language": "python",
      "name": "python3"
    },
    "language_info": {
      "codemirror_mode": {
        "name": "ipython",
        "version": 3
      },
      "file_extension": ".py",
      "mimetype": "text/x-python",
      "name": "python",
      "nbconvert_exporter": "python",
      "pygments_lexer": "ipython3",
      "version": "3.8.5"
    }
  },
  "cells": [
    {
      "cell_type": "markdown",
      "metadata": {
        "id": "R4WDgVjUKTuW"
      },
      "source": [
        "**[Slide no.52]**\n",
        "\n",
        "1. write a program to Check wheather the age entered by user is above 18 or not?"
      ]
    },
    {
      "cell_type": "code",
      "metadata": {
        "id": "QUYDTLIKKVM3",
        "colab": {
          "base_uri": "https://localhost:8080/"
        },
        "outputId": "f4639b36-a4de-419c-d17b-37bf7940ba54"
      },
      "source": [
        "age=int(input())\n",
        "if age>=18:\n",
        "   print('allowed')\n",
        "else :\n",
        "   print('not allowed')\n"
      ],
      "execution_count": 9,
      "outputs": [
        {
          "output_type": "stream",
          "text": [
            "20\n",
            "allowed\n"
          ],
          "name": "stdout"
        }
      ]
    },
    {
      "cell_type": "markdown",
      "metadata": {
        "id": "UtMMk_C_KVaA"
      },
      "source": [
        "**[Slide No. 52]**\n",
        "\n",
        "2. Write a program to check number entered is even or not ?"
      ]
    },
    {
      "cell_type": "code",
      "metadata": {
        "id": "tdX72iluKVu5",
        "colab": {
          "base_uri": "https://localhost:8080/"
        },
        "outputId": "981f7140-a598-4596-b15b-5474e6022657"
      },
      "source": [
        "a=int(input())\n",
        "if a%2 == 0:\n",
        "  print('number is even')\n",
        "elif a%2 != 0:\n",
        "  print('number is odd')\n"
      ],
      "execution_count": 13,
      "outputs": [
        {
          "output_type": "stream",
          "text": [
            "6\n",
            "number is even\n"
          ],
          "name": "stdout"
        }
      ]
    },
    {
      "cell_type": "markdown",
      "metadata": {
        "id": "Pf8qWzurKWDn"
      },
      "source": [
        "**[Slide No. 53]**\n",
        "\n",
        "3. Write a program to print largest number from three given numbers."
      ]
    },
    {
      "cell_type": "code",
      "metadata": {
        "id": "RlgJ1ag0MjCy",
        "colab": {
          "base_uri": "https://localhost:8080/"
        },
        "outputId": "4c39e37a-35fe-4f70-e5d7-af5a2f7d73cf"
      },
      "source": [
        "a=int(input('1st number'))\n",
        "b=int(input('2nd number'))\n",
        "c=int(input('3rd number'))\n",
        "\n",
        "if a>b and a>c:\n",
        "    print('a is the largest number')\n",
        "elif b>a and b>c:\n",
        "    print('b is the largest number')\n",
        "else :\n",
        "    print('c is the largest number')        "
      ],
      "execution_count": 17,
      "outputs": [
        {
          "output_type": "stream",
          "text": [
            "1st number22\n",
            "2nd number58\n",
            "3rd number20\n",
            "b is the largest number\n"
          ],
          "name": "stdout"
        }
      ]
    },
    {
      "cell_type": "markdown",
      "metadata": {
        "id": "lXjKH26aKWHy"
      },
      "source": [
        "66**[Slide No.54]**\n",
        "\n",
        "4. Write a program to check whether the user enter number is 10,50 and 100 .\n",
        "\n"
      ]
    },
    {
      "cell_type": "code",
      "metadata": {
        "id": "4IsUverrMj-s",
        "colab": {
          "base_uri": "https://localhost:8080/"
        },
        "outputId": "518a0b71-3be2-4875-f248-bb8329da720c"
      },
      "source": [
        "n=int(input('input values'))\n",
        "\n",
        "if n==10:\n",
        "    print('number is 10')\n",
        "elif n==50:\n",
        "    print('number is 50')\n",
        "elif n==10:\n",
        "    print('number is 100')\n",
        "else:\n",
        "    print('please enter valid number')       \n"
      ],
      "execution_count": 24,
      "outputs": [
        {
          "output_type": "stream",
          "text": [
            "input values50\n",
            "number is 50\n"
          ],
          "name": "stdout"
        }
      ]
    },
    {
      "cell_type": "markdown",
      "metadata": {
        "id": "hzFpudkgKWhJ"
      },
      "source": [
        "**[Slide No. 54]**\n",
        "\n",
        "5. Write a program to check given number is multiple of 6 or not ."
      ]
    },
    {
      "cell_type": "code",
      "metadata": {
        "id": "GcyVovq0y9Ak",
        "colab": {
          "base_uri": "https://localhost:8080/"
        },
        "outputId": "760aed7b-f87f-4d52-951f-080da2531094"
      },
      "source": [
        "print('please enter number')\n",
        "a=int(input())\n",
        "if a%6==0:\n",
        "    print('a is multiple of 6')\n",
        "elif a%6!=0:\n",
        "   print('a is not multiple of 6')   "
      ],
      "execution_count": 29,
      "outputs": [
        {
          "output_type": "stream",
          "text": [
            "please enter number\n",
            "36\n",
            "ais multiple of 6\n"
          ],
          "name": "stdout"
        }
      ]
    },
    {
      "cell_type": "markdown",
      "metadata": {
        "id": "ih7KTp-1HD9F"
      },
      "source": [
        "6.Write av program to check enter number is prime or not"
      ]
    },
    {
      "cell_type": "code",
      "metadata": {
        "id": "XCZTMjr0HDg-"
      },
      "source": [
        "\n",
        "\n"
      ],
      "execution_count": null,
      "outputs": []
    },
    {
      "cell_type": "code",
      "metadata": {
        "id": "AzGl-zkySUA1"
      },
      "source": [
        ""
      ],
      "execution_count": null,
      "outputs": []
    },
    {
      "cell_type": "code",
      "metadata": {
        "id": "zNec32N8dP_p"
      },
      "source": [
        ""
      ],
      "execution_count": null,
      "outputs": []
    }
  ]
}