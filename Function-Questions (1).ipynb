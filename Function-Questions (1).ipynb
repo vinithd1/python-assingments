{
 "cells": [
  {
   "cell_type": "markdown",
   "metadata": {
    "id": "VtM_1fUHQZjs"
   },
   "source": [
    "**[Slide No.69]**\n",
    "\n",
    "1. Write a function to print Hello world! ."
   ]
  },
  {
   "cell_type": "code",
   "execution_count": null,
   "metadata": {
    "id": "8hArxLQ3eI30"
   },
   "outputs": [],
   "source": [
    "def fun():\n",
    "    print('Hello world')\n",
    "\n",
    "fun()"
   ]
  },
  {
   "cell_type": "markdown",
   "metadata": {
    "id": "AEytpP9-QZnm"
   },
   "source": [
    "**[Slide No. 69]**\n",
    "\n",
    "2. Write a function to print  Hello four times ."
   ]
  },
  {
   "cell_type": "code",
   "execution_count": null,
   "metadata": {
    "id": "PZWc8iKUeI32"
   },
   "outputs": [],
   "source": [
    "def prt():\n",
    "    for i in range(4):\n",
    "        print(\"Hello\")\n",
    "prt()    "
   ]
  },
  {
   "cell_type": "markdown",
   "metadata": {
    "id": "Muh15NjoQZqU"
   },
   "source": [
    "**[Slide No. 69]**\n",
    "\n",
    "3. Write a function to find the diff, add , mul of two numbers."
   ]
  },
  {
   "cell_type": "code",
   "execution_count": null,
   "metadata": {
    "id": "EB_uPH4_eI33"
   },
   "outputs": [],
   "source": [
    "def opt_no(a,b):\n",
    "    print('sum:',a+b)\n",
    "    print('diff:',a-b)\n",
    "    print('mul:',a*b)\n",
    " \n",
    "n=int(input())\n",
    "n1=int(input())\n",
    "opt_no(n,n1)"
   ]
  },
  {
   "cell_type": "markdown",
   "metadata": {
    "id": "YxdYhJt_QZso"
   },
   "source": [
    "**[Slide No. 69]**\n",
    "\n",
    " 4. Write the function to find the factorial of a number ."
   ]
  },
  {
   "cell_type": "code",
   "execution_count": null,
   "metadata": {
    "id": "WKZ7rpbXeI34"
   },
   "outputs": [],
   "source": [
    "def fact_no(n):\n",
    "    i = 1\n",
    "    factorial = 1\n",
    "    while i<=n:\n",
    "        factorial=factorial*i\n",
    "        i=i+1\n",
    "    print(factorial)\n",
    "    \n",
    "n=int(input())\n",
    "print(fact_no(n))"
   ]
  },
  {
   "cell_type": "markdown",
   "metadata": {
    "id": "DSKYQlqEQZwq"
   },
   "source": [
    "**[Slide No. 69]**\n",
    "\n",
    "5. Write a function to find the square of a number "
   ]
  },
  {
   "cell_type": "code",
   "execution_count": null,
   "metadata": {
    "id": "2tRoMbJneI35"
   },
   "outputs": [],
   "source": [
    "def sqr(a):\n",
    "    s=a**2\n",
    "    print(s)\n",
    "n=int(input())    \n",
    "sqr(n)  "
   ]
  },
  {
   "cell_type": "markdown",
   "metadata": {
    "id": "jUYHpxnoT9Ef"
   },
   "source": [
    "**[Slide No. 69]**\n",
    "\n",
    "6. Write the output of the program \n",
    "\n"
   ]
  },
  {
   "cell_type": "code",
   "execution_count": null,
   "metadata": {
    "id": "ZzdBo-VkeI36"
   },
   "outputs": [],
   "source": []
  },
  {
   "cell_type": "markdown",
   "metadata": {
    "id": "yVUoKQsoV8d_"
   },
   "source": [
    "**[Slide No. 73]**\n",
    "\n",
    "7. Check the output of the program:\n",
    "\n",
    "myAdd = lambda x, y,z: x + y+z\n",
    "\n",
    "print (myAdd(6, 10,15))\n",
    "\n",
    "print (myAdd(7, 20,4))\n",
    "\n",
    "print (type(myAdd))"
   ]
  },
  {
   "cell_type": "code",
   "execution_count": null,
   "metadata": {
    "id": "N_Sqbm2beI36"
   },
   "outputs": [],
   "source": [
    "myAdd = lambda x, y,z: x + y+z\n",
    "\n",
    "print (myAdd(6, 10,15))\n",
    "\n",
    "print (myAdd(7, 20,4))\n",
    "\n",
    "print (type(myAdd))"
   ]
  },
  {
   "cell_type": "markdown",
   "metadata": {
    "id": "LRC5kSgo2uqt"
   },
   "source": [
    "**[Slide No. 73]**\n",
    "\n",
    "8. Write a Python program to create a lambda function that adds 15 to a given number passed in as an argument."
   ]
  },
  {
   "cell_type": "code",
   "execution_count": null,
   "metadata": {
    "id": "_RIobTypeI37"
   },
   "outputs": [],
   "source": [
    "myAdd = lambda x:x\n",
    "add15 = lambda x: x+15\n",
    "add15(10)"
   ]
  },
  {
   "cell_type": "markdown",
   "metadata": {
    "id": "KaRTkOYQ3PYc"
   },
   "source": [
    "**[Slide No. 73]**\n",
    "\n",
    "9. create a lambda function that multiplies argument x with argument y and print the result."
   ]
  },
  {
   "cell_type": "code",
   "execution_count": null,
   "metadata": {
    "id": "AI4cpLZPd-pH"
   },
   "outputs": [],
   "source": [
    "mul = lambda x,y :x*y\n",
    "x=int(input())\n",
    "y=int(input())\n",
    "\n",
    "mul(x,y)"
   ]
  }
 ],
 "metadata": {
  "colab": {
   "collapsed_sections": [],
   "name": "Function-Questions.ipynb",
   "provenance": []
  },
  "kernelspec": {
   "display_name": "Python 3",
   "language": "python",
   "name": "python3"
  },
  "language_info": {
   "codemirror_mode": {
    "name": "ipython",
    "version": 3
   },
   "file_extension": ".py",
   "mimetype": "text/x-python",
   "name": "python",
   "nbconvert_exporter": "python",
   "pygments_lexer": "ipython3",
   "version": "3.8.8"
  }
 },
 "nbformat": 4,
 "nbformat_minor": 1
}
